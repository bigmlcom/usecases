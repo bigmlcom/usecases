{
 "cells": [
  {
   "cell_type": "markdown",
   "metadata": {},
   "source": [
    "# Anomaly Field Imprtance BigML"
   ]
  },
  {
   "cell_type": "code",
   "execution_count": 1,
   "metadata": {},
   "outputs": [],
   "source": [
    "import numpy as np\n",
    "import pandas as pd\n",
    "\n",
    "import matplotlib.pyplot as plt\n",
    "%matplotlib inline\n",
    "\n",
    "import seaborn as sns\n",
    "\n",
    "import warnings\n",
    "warnings.filterwarnings('ignore')"
   ]
  },
  {
   "cell_type": "code",
   "execution_count": 2,
   "metadata": {},
   "outputs": [
    {
     "name": "stdout",
     "output_type": "stream",
     "text": [
      "Pandas Version: 0.23.0\n",
      "NumPy Version: 1.14.3\n",
      "SeaBorn Version: 0.8.1\n"
     ]
    }
   ],
   "source": [
    "print(\"Pandas Version: \"+pd.__version__)\n",
    "print(\"NumPy Version: \"+np.__version__)\n",
    "print(\"SeaBorn Version: \"+sns.__version__)"
   ]
  },
  {
   "cell_type": "code",
   "execution_count": 3,
   "metadata": {},
   "outputs": [],
   "source": [
    "import os\n",
    "os.environ['BIGML_USERNAME'] = \"efetoros\"\n",
    "os.environ['BIGML_API_KEY'] = \"7e5fc6a649fd0f8517fc8ecf2ebd30151c5d4fb4\""
   ]
  },
  {
   "cell_type": "code",
   "execution_count": 4,
   "metadata": {},
   "outputs": [],
   "source": [
    "from bigml.api import BigML\n",
    "api = BigML()"
   ]
  },
  {
   "cell_type": "markdown",
   "metadata": {},
   "source": [
    "### This function outputs a pandas dataframe containing a score column for anomaly scores.\n"
   ]
  },
  {
   "cell_type": "code",
   "execution_count": 263,
   "metadata": {},
   "outputs": [],
   "source": [
    "def anomoly_distribution(file_name):\n",
    "    source = api.create_source(file_name)\n",
    "    api.ok(source)\n",
    "    dataset = api.create_dataset(source)\n",
    "    api.ok(dataset)\n",
    "    anomaly = api.create_anomaly(dataset)\n",
    "    api.ok(anomaly)\n",
    "    batch_anomaly_score = api.create_batch_anomaly_score(anomaly, dataset,\n",
    "                                                    {\"all_fields\" : True,\n",
    "                                                    \"importance\": True})\n",
    "    api.ok(batch_anomaly_score)\n",
    "    api.download_batch_anomaly_score(batch_anomaly_score,\n",
    "                                 filename=file_name+\"_\"+'anomaly_scores.csv')\n",
    "    scores = pd.read_csv(file_name+\"_\"+\"anomaly_scores.csv\")\n",
    "    return scores"
   ]
  },
  {
   "cell_type": "code",
   "execution_count": 264,
   "metadata": {},
   "outputs": [
    {
     "data": {
      "text/html": [
       "<div>\n",
       "<style scoped>\n",
       "    .dataframe tbody tr th:only-of-type {\n",
       "        vertical-align: middle;\n",
       "    }\n",
       "\n",
       "    .dataframe tbody tr th {\n",
       "        vertical-align: top;\n",
       "    }\n",
       "\n",
       "    .dataframe thead th {\n",
       "        text-align: right;\n",
       "    }\n",
       "</style>\n",
       "<table border=\"1\" class=\"dataframe\">\n",
       "  <thead>\n",
       "    <tr style=\"text-align: right;\">\n",
       "      <th></th>\n",
       "      <th>pregnancies</th>\n",
       "      <th>plasma glucose</th>\n",
       "      <th>blood pressure</th>\n",
       "      <th>triceps skin thickness</th>\n",
       "      <th>insulin</th>\n",
       "      <th>bmi</th>\n",
       "      <th>diabetes pedigree</th>\n",
       "      <th>age</th>\n",
       "      <th>diabetes</th>\n",
       "      <th>score</th>\n",
       "      <th>pregnancies importance</th>\n",
       "      <th>plasma glucose importance</th>\n",
       "      <th>blood pressure importance</th>\n",
       "      <th>triceps skin thickness importance</th>\n",
       "      <th>insulin importance</th>\n",
       "      <th>bmi importance</th>\n",
       "      <th>diabetes pedigree importance</th>\n",
       "      <th>age importance</th>\n",
       "      <th>diabetes importance</th>\n",
       "    </tr>\n",
       "  </thead>\n",
       "  <tbody>\n",
       "    <tr>\n",
       "      <th>0</th>\n",
       "      <td>6</td>\n",
       "      <td>148</td>\n",
       "      <td>72</td>\n",
       "      <td>35</td>\n",
       "      <td>0</td>\n",
       "      <td>33.6</td>\n",
       "      <td>0.627</td>\n",
       "      <td>50</td>\n",
       "      <td>True</td>\n",
       "      <td>0.39669</td>\n",
       "      <td>0.11591</td>\n",
       "      <td>0.10865</td>\n",
       "      <td>0.05101</td>\n",
       "      <td>0.12134</td>\n",
       "      <td>0.05585</td>\n",
       "      <td>0.04786</td>\n",
       "      <td>0.08202</td>\n",
       "      <td>0.11895</td>\n",
       "      <td>0.29841</td>\n",
       "    </tr>\n",
       "    <tr>\n",
       "      <th>1</th>\n",
       "      <td>1</td>\n",
       "      <td>85</td>\n",
       "      <td>66</td>\n",
       "      <td>29</td>\n",
       "      <td>0</td>\n",
       "      <td>26.6</td>\n",
       "      <td>0.351</td>\n",
       "      <td>31</td>\n",
       "      <td>False</td>\n",
       "      <td>0.33728</td>\n",
       "      <td>0.16053</td>\n",
       "      <td>0.12813</td>\n",
       "      <td>0.07044</td>\n",
       "      <td>0.13400</td>\n",
       "      <td>0.08046</td>\n",
       "      <td>0.07031</td>\n",
       "      <td>0.09296</td>\n",
       "      <td>0.10698</td>\n",
       "      <td>0.15620</td>\n",
       "    </tr>\n",
       "  </tbody>\n",
       "</table>\n",
       "</div>"
      ],
      "text/plain": [
       "   pregnancies  plasma glucose  blood pressure  triceps skin thickness  \\\n",
       "0            6             148              72                      35   \n",
       "1            1              85              66                      29   \n",
       "\n",
       "   insulin   bmi  diabetes pedigree  age  diabetes    score  \\\n",
       "0        0  33.6              0.627   50      True  0.39669   \n",
       "1        0  26.6              0.351   31     False  0.33728   \n",
       "\n",
       "   pregnancies importance  plasma glucose importance  \\\n",
       "0                 0.11591                    0.10865   \n",
       "1                 0.16053                    0.12813   \n",
       "\n",
       "   blood pressure importance  triceps skin thickness importance  \\\n",
       "0                    0.05101                            0.12134   \n",
       "1                    0.07044                            0.13400   \n",
       "\n",
       "   insulin importance  bmi importance  diabetes pedigree importance  \\\n",
       "0             0.05585         0.04786                       0.08202   \n",
       "1             0.08046         0.07031                       0.09296   \n",
       "\n",
       "   age importance  diabetes importance  \n",
       "0         0.11895              0.29841  \n",
       "1         0.10698              0.15620  "
      ]
     },
     "execution_count": 264,
     "metadata": {},
     "output_type": "execute_result"
    }
   ],
   "source": [
    "diabetes = anomoly_distribution(\"diabetes_copy.csv\")\n",
    "diabetes.head(2)"
   ]
  },
  {
   "cell_type": "code",
   "execution_count": null,
   "metadata": {},
   "outputs": [],
   "source": []
  },
  {
   "cell_type": "markdown",
   "metadata": {},
   "source": [
    "Download more datasets with anomaly scores as dataframes.\n"
   ]
  },
  {
   "cell_type": "code",
   "execution_count": 266,
   "metadata": {},
   "outputs": [],
   "source": [
    "bank_marketing = anomoly_distribution(\"bank-additional-full.csv\")\n",
    "credit = anomoly_distribution(\"credit_data/credit.csv\")\n",
    "kidney_disease = anomoly_distribution(\"kidney_disease copy.csv\")"
   ]
  },
  {
   "cell_type": "code",
   "execution_count": null,
   "metadata": {},
   "outputs": [],
   "source": []
  },
  {
   "cell_type": "markdown",
   "metadata": {},
   "source": [
    "### This function is a helper function that illustrates most of the work in this notebook. The function will return a ordered list of field names based on field importance score.\n",
    "\n",
    "Parameters:\n",
    "<ul>\n",
    "<li>df: The data frame where the function will be computing field importance for anomalies\n",
    "\t\n",
    "\n",
    "<li> threshold: If the threshold is left blank, the default will be set by the extreme right limit of a box and whisker plot. Otherwise we have to set the threshold.\n",
    "\t\n",
    "<li> balance: decides whether to balance fields when creating ensembles\n",
    "<li> ensemble: if true, the function decides to use a method of creating a target column from anomaly scores, training an ensemble on the newly transformed table, and using the field importance of that ensemble, if false, the function decides to use a method that retrievs a subset of instances' field importance scores from an anomaly object, and eventually averages them for a final set of field importance. \n",
    "<li> graph_info: decides whether to present a graph of the distribution, a box and whisker plot, and additional info.\n",
    "<ul>"
   ]
  },
  {
   "cell_type": "markdown",
   "metadata": {},
   "source": [
    "### Originally, when I first was setting thresholds, I also included a low threshold. So when labeling anomaly scores I labeled low middle and high, however, I concluded that setting a low threshold mishandled the data. Since we are focusing on the distribution of anomaly scores, the distribution will usually be right skewed with more instances with lower anomaly scores. This is because there usually won’t be a higher concentration of instances with high anomaly scores, if this was the case that would mean that there would be more outliers than what is considered the regular data.  Therefore, I think it makes more sense to have one threshold that splits instances that have a high anomaly score or otherwise a normal score. \n"
   ]
  },
  {
   "cell_type": "code",
   "execution_count": 267,
   "metadata": {},
   "outputs": [],
   "source": [
    "def anomaly_field_importance(df, threshold=0, balance=False, ensemble=True ,graph_info=True):\n",
    "    \n",
    "    boxplot= plt.boxplot(df[\"score\"])\n",
    "    plt.close()\n",
    "    \n",
    "    # d_extremes = [item.get_ydata() for item in B['whiskers']]\n",
    "    if (threshold == 0):\n",
    "        d_extremes = [item.get_ydata() for item in boxplot['whiskers']]\n",
    "        threshold = d_extremes[1][1]\n",
    "    else:\n",
    "        threshold = np.percentile(df[\"score\"], threshold)\n",
    "        \n",
    "#     anomaly_labeled = df[\"score\"].apply(lambda x : \"High Anomaly\" if x >= high_thresh else (\"Low Anomaly\" if x <= low_thresh else \"Mid Anomaly\"))\n",
    "    anomaly_labeled = df[\"score\"].apply(lambda x : \"High Anomaly\" if x >= threshold else \"Normal Anomaly\")\n",
    "    \n",
    "    if graph_info:    \n",
    "        print(\"Corresponding scores from set thresholds:\")\n",
    "        print(\"Threshold Score: \"+ str(threshold))\n",
    "        \n",
    "        f, (ax_box, ax_hist) = plt.subplots(2, sharex=True, gridspec_kw={\"height_ratios\": (.15, .85)})\n",
    " \n",
    "   \n",
    "        # Add a graph in each part\n",
    "        sns.boxplot(df[\"score\"], ax=ax_box)\n",
    "        sns.distplot(df[\"score\"], ax=ax_hist)\n",
    " \n",
    "        # Remove x axis name for the boxplot\n",
    "        ax_box.set(xlabel='')\n",
    "\n",
    "    \n",
    "        plt.axvline(x=threshold)\n",
    "        \n",
    "        print()\n",
    "        print(\"Anomaly Counts:\")\n",
    "        print(anomaly_labeled.value_counts())\n",
    "        \n",
    "    \n",
    "    df[\"anomaly_labeled\"] = anomaly_labeled\n",
    "    \n",
    "\n",
    "    plt.show()\n",
    "    \n",
    "    if (ensemble==True):\n",
    "        df = df.drop(df.loc[:,\"score\" :].columns[:-1],axis=1)\n",
    "        df.to_csv(\"temp.csv\")\n",
    "        \n",
    "        source = api.create_source(\"temp.csv\")\n",
    "        api.ok(source)\n",
    "\n",
    "        dataset = api.create_dataset(source,{\"excluded_fields\":[\"field1\"]})\n",
    "        api.ok(dataset)\n",
    "\n",
    "        Ensemble = api.create_ensemble(dataset, {\"balance_objective\" : balance})\n",
    "        api.ok(Ensemble)\n",
    "    \n",
    "        field_importance = Ensemble[\"object\"][\"importance\"]\n",
    "\n",
    "        names_of_important_fields = {}\n",
    "        for keys in field_importance.keys():\n",
    "            names_of_important_fields[dataset['object'][\"fields\"][keys][\"name\"]] = field_importance[keys]\n",
    "        sorted_values = sorted(names_of_important_fields.items(), key=lambda kv: kv[1])\n",
    "        return sorted_values\n",
    "    else:\n",
    "        df = df[df[\"anomaly_labeled\"]==\"High Anomaly\"]\n",
    "        df = df[df.loc[:,\"score\" :].drop([\"score\"],axis=1).columns[:-2]]\n",
    "        holder= {}\n",
    "        for column in df:\n",
    "            holder[column] = np.mean(df[column])\n",
    "        sorted_values = sorted(holder.items(), key=lambda kv: kv[1])\n",
    "        return sorted_values"
   ]
  },
  {
   "cell_type": "markdown",
   "metadata": {},
   "source": [
    "This method is for the creation of side by side barplots that compare outcomes of methods."
   ]
  },
  {
   "cell_type": "code",
   "execution_count": 368,
   "metadata": {},
   "outputs": [],
   "source": [
    "def side_by_side(e_method,a_method):\n",
    "    df = pd.DataFrame(data={\"fields\":pd.Series([x[0] for x in e_method]), \n",
    "                           \"field_importance\" :pd.Series([x[1] for x in e_method]), \n",
    "                           \"method\": pd.Series([\"Ensemble Method\" for x in np.arange(len(e_method))])})\n",
    "    df2 = pd.DataFrame(data={\"fields\":pd.Series([x[0][:-11] for x in a_method]), \n",
    "                            \"field_importance\" : pd.Series([x[1] for x in a_method]), \n",
    "                            \"method\": pd.Series([\"Anomaly Method\" for x in np.arange(len(a_method))])})\n",
    "    df = df.append(df2)\n",
    "    sns.set(style=\"whitegrid\")\n",
    "\n",
    "    g = sns.barplot(y=\"fields\", x=\"field_importance\", hue=\"method\", data=df)"
   ]
  },
  {
   "cell_type": "code",
   "execution_count": 269,
   "metadata": {},
   "outputs": [
    {
     "name": "stdout",
     "output_type": "stream",
     "text": [
      "Corresponding scores from set thresholds:\n",
      "Threshold Score: 0.56553\n",
      "\n",
      "Anomaly Counts:\n",
      "Normal Anomaly    762\n",
      "High Anomaly        6\n",
      "Name: score, dtype: int64\n"
     ]
    },
    {
     "data": {
      "image/png": "[encoded data removed]",
      "text/plain": [
       "<Figure size 432x288 with 2 Axes>"
      ]
     },
     "metadata": {},
     "output_type": "display_data"
    }
   ],
   "source": [
    "not_balanced_ensemble_diabetes = anomaly_field_importance(diabetes)\n",
    "balanced_ensemble_diabetes = anomaly_field_importance(diabetes,balance=True,graph_info=False)\n",
    "anomaly_mean_diabetes = anomaly_field_importance(diabetes,balance=True,ensemble=False,graph_info=False)"
   ]
  },
  {
   "cell_type": "code",
   "execution_count": null,
   "metadata": {},
   "outputs": [],
   "source": []
  },
  {
   "cell_type": "markdown",
   "metadata": {},
   "source": [
    "### After running the function, we can see that according to the box and whisker default threshold, we have 6 anomalies in our dataset. We ran the function three times, the first time we used the ensemble method and don't balance the two sides of the threshold, the second time we use the ensemble method and balance the fields so when the ensemble is created, it does not put too much emphasis on the many instances of normal anomalies in the target column, and the third time we ran it, we used the method of averaging the subest of anomalies field importance straight from our anomaly object."
   ]
  },
  {
   "cell_type": "code",
   "execution_count": 270,
   "metadata": {},
   "outputs": [
    {
     "data": {
      "text/plain": [
       "[('blood pressure', 0.00763),\n",
       " ('diabetes', 0.01541),\n",
       " ('plasma glucose', 0.06595),\n",
       " ('pregnancies', 0.07961),\n",
       " ('diabetes pedigree', 0.10631),\n",
       " ('insulin', 0.11376),\n",
       " ('triceps skin thickness', 0.13825),\n",
       " ('bmi', 0.18511),\n",
       " ('age', 0.28797)]"
      ]
     },
     "execution_count": 270,
     "metadata": {},
     "output_type": "execute_result"
    }
   ],
   "source": [
    "not_balanced_ensemble_diabetes"
   ]
  },
  {
   "cell_type": "code",
   "execution_count": 271,
   "metadata": {},
   "outputs": [
    {
     "data": {
      "text/plain": [
       "[('diabetes pedigree', 0.03293),\n",
       " ('diabetes', 0.03397),\n",
       " ('pregnancies', 0.03717),\n",
       " ('age', 0.04699),\n",
       " ('blood pressure', 0.10028),\n",
       " ('insulin', 0.10044),\n",
       " ('bmi', 0.13018),\n",
       " ('triceps skin thickness', 0.152),\n",
       " ('plasma glucose', 0.36603)]"
      ]
     },
     "execution_count": 271,
     "metadata": {},
     "output_type": "execute_result"
    }
   ],
   "source": [
    "balanced_ensemble_diabetes"
   ]
  },
  {
   "cell_type": "code",
   "execution_count": 272,
   "metadata": {},
   "outputs": [
    {
     "data": {
      "text/plain": [
       "[('bmi importance', 0.08196833333333334),\n",
       " ('blood pressure importance', 0.08289999999999999),\n",
       " ('pregnancies importance', 0.08891166666666667),\n",
       " ('insulin importance', 0.09865333333333333),\n",
       " ('age importance', 0.10598666666666666),\n",
       " ('diabetes pedigree importance', 0.10976000000000001),\n",
       " ('triceps skin thickness importance', 0.11687666666666667),\n",
       " ('plasma glucose importance', 0.12035333333333335)]"
      ]
     },
     "execution_count": 272,
     "metadata": {},
     "output_type": "execute_result"
    }
   ],
   "source": [
    "anomaly_mean_diabetes"
   ]
  },
  {
   "cell_type": "code",
   "execution_count": 369,
   "metadata": {},
   "outputs": [
    {
     "data": {
      "image/png": "[encoded data removed]",
      "text/plain": [
       "<Figure size 432x288 with 1 Axes>"
      ]
     },
     "metadata": {},
     "output_type": "display_data"
    }
   ],
   "source": [
    "side_by_side(balanced_ensemble_diabetes,anomaly_mean_diabetes)"
   ]
  },
  {
   "cell_type": "markdown",
   "metadata": {},
   "source": [
    "### An important note is that our two methods come out with much varying outcomes."
   ]
  },
  {
   "cell_type": "code",
   "execution_count": 358,
   "metadata": {},
   "outputs": [],
   "source": [
    "x = []\n",
    "for i in np.arange(20):\n",
    "    x.append(anomaly_field_importance(diabetes,balance=True,graph_info=False))"
   ]
  },
  {
   "cell_type": "code",
   "execution_count": 359,
   "metadata": {},
   "outputs": [],
   "source": [
    "def comb(lst):\n",
    "    if (len(lst) == 1):\n",
    "        df1 = pd.DataFrame(data={\"field_importance_scores\":pd.Series([x[1] for x in lst[0]]), \n",
    "                           \"fields\" : pd.Series([x[0] for x in lst[0]])})\n",
    "        return df1\n",
    "    else: \n",
    "        df = comb([lst[0]]).append(comb(lst[1:]))\n",
    "        return df"
   ]
  },
  {
   "cell_type": "markdown",
   "metadata": {},
   "source": [
    "## The table below shows the std of field importance scores from running the ensemble balanced method 20 times. It is not a good sign that with every iteration, our field importance changes. "
   ]
  },
  {
   "cell_type": "code",
   "execution_count": 360,
   "metadata": {},
   "outputs": [
    {
     "data": {
      "text/html": [
       "<div>\n",
       "<style scoped>\n",
       "    .dataframe tbody tr th:only-of-type {\n",
       "        vertical-align: middle;\n",
       "    }\n",
       "\n",
       "    .dataframe tbody tr th {\n",
       "        vertical-align: top;\n",
       "    }\n",
       "\n",
       "    .dataframe thead th {\n",
       "        text-align: right;\n",
       "    }\n",
       "</style>\n",
       "<table border=\"1\" class=\"dataframe\">\n",
       "  <thead>\n",
       "    <tr style=\"text-align: right;\">\n",
       "      <th></th>\n",
       "      <th>field_importance_scores</th>\n",
       "    </tr>\n",
       "    <tr>\n",
       "      <th>fields</th>\n",
       "      <th></th>\n",
       "    </tr>\n",
       "  </thead>\n",
       "  <tbody>\n",
       "    <tr>\n",
       "      <th>age</th>\n",
       "      <td>0.074036</td>\n",
       "    </tr>\n",
       "    <tr>\n",
       "      <th>blood pressure</th>\n",
       "      <td>0.034508</td>\n",
       "    </tr>\n",
       "    <tr>\n",
       "      <th>bmi</th>\n",
       "      <td>0.061706</td>\n",
       "    </tr>\n",
       "    <tr>\n",
       "      <th>diabetes</th>\n",
       "      <td>0.027037</td>\n",
       "    </tr>\n",
       "    <tr>\n",
       "      <th>diabetes pedigree</th>\n",
       "      <td>0.049652</td>\n",
       "    </tr>\n",
       "    <tr>\n",
       "      <th>insulin</th>\n",
       "      <td>0.059755</td>\n",
       "    </tr>\n",
       "    <tr>\n",
       "      <th>plasma glucose</th>\n",
       "      <td>0.093919</td>\n",
       "    </tr>\n",
       "    <tr>\n",
       "      <th>pregnancies</th>\n",
       "      <td>0.011187</td>\n",
       "    </tr>\n",
       "    <tr>\n",
       "      <th>triceps skin thickness</th>\n",
       "      <td>0.049739</td>\n",
       "    </tr>\n",
       "  </tbody>\n",
       "</table>\n",
       "</div>"
      ],
      "text/plain": [
       "                        field_importance_scores\n",
       "fields                                         \n",
       "age                                    0.074036\n",
       "blood pressure                         0.034508\n",
       "bmi                                    0.061706\n",
       "diabetes                               0.027037\n",
       "diabetes pedigree                      0.049652\n",
       "insulin                                0.059755\n",
       "plasma glucose                         0.093919\n",
       "pregnancies                            0.011187\n",
       "triceps skin thickness                 0.049739"
      ]
     },
     "execution_count": 360,
     "metadata": {},
     "output_type": "execute_result"
    }
   ],
   "source": [
    "comb(x).groupby(\"fields\").std()"
   ]
  },
  {
   "cell_type": "code",
   "execution_count": 361,
   "metadata": {},
   "outputs": [
    {
     "data": {
      "text/html": [
       "<div>\n",
       "<style scoped>\n",
       "    .dataframe tbody tr th:only-of-type {\n",
       "        vertical-align: middle;\n",
       "    }\n",
       "\n",
       "    .dataframe tbody tr th {\n",
       "        vertical-align: top;\n",
       "    }\n",
       "\n",
       "    .dataframe thead th {\n",
       "        text-align: right;\n",
       "    }\n",
       "</style>\n",
       "<table border=\"1\" class=\"dataframe\">\n",
       "  <thead>\n",
       "    <tr style=\"text-align: right;\">\n",
       "      <th></th>\n",
       "      <th>field_importance_scores</th>\n",
       "    </tr>\n",
       "    <tr>\n",
       "      <th>fields</th>\n",
       "      <th></th>\n",
       "    </tr>\n",
       "  </thead>\n",
       "  <tbody>\n",
       "    <tr>\n",
       "      <th>age</th>\n",
       "      <td>0.181138</td>\n",
       "    </tr>\n",
       "    <tr>\n",
       "      <th>blood pressure</th>\n",
       "      <td>0.067673</td>\n",
       "    </tr>\n",
       "    <tr>\n",
       "      <th>bmi</th>\n",
       "      <td>0.156217</td>\n",
       "    </tr>\n",
       "    <tr>\n",
       "      <th>diabetes</th>\n",
       "      <td>0.019975</td>\n",
       "    </tr>\n",
       "    <tr>\n",
       "      <th>diabetes pedigree</th>\n",
       "      <td>0.101966</td>\n",
       "    </tr>\n",
       "    <tr>\n",
       "      <th>insulin</th>\n",
       "      <td>0.048588</td>\n",
       "    </tr>\n",
       "    <tr>\n",
       "      <th>plasma glucose</th>\n",
       "      <td>0.330201</td>\n",
       "    </tr>\n",
       "    <tr>\n",
       "      <th>pregnancies</th>\n",
       "      <td>0.038895</td>\n",
       "    </tr>\n",
       "    <tr>\n",
       "      <th>triceps skin thickness</th>\n",
       "      <td>0.062635</td>\n",
       "    </tr>\n",
       "  </tbody>\n",
       "</table>\n",
       "</div>"
      ],
      "text/plain": [
       "                        field_importance_scores\n",
       "fields                                         \n",
       "age                                    0.181138\n",
       "blood pressure                         0.067673\n",
       "bmi                                    0.156217\n",
       "diabetes                               0.019975\n",
       "diabetes pedigree                      0.101966\n",
       "insulin                                0.048588\n",
       "plasma glucose                         0.330201\n",
       "pregnancies                            0.038895\n",
       "triceps skin thickness                 0.062635"
      ]
     },
     "execution_count": 361,
     "metadata": {},
     "output_type": "execute_result"
    }
   ],
   "source": [
    "comb(x).groupby(\"fields\").mean()"
   ]
  },
  {
   "cell_type": "code",
   "execution_count": 364,
   "metadata": {},
   "outputs": [],
   "source": [
    "x = []\n",
    "for i in np.arange(20):\n",
    "    diabetes = anomoly_distribution(\"diabetes_copy.csv\")\n",
    "    x.append(anomaly_field_importance(diabetes,balance=True,ensemble=False,graph_info=False))"
   ]
  },
  {
   "cell_type": "markdown",
   "metadata": {},
   "source": [
    "## Below we can see that the the method involving the direct retrieval of avg field importance from the anomaly object, does not vary during iterations"
   ]
  },
  {
   "cell_type": "code",
   "execution_count": 365,
   "metadata": {},
   "outputs": [
    {
     "data": {
      "text/html": [
       "<div>\n",
       "<style scoped>\n",
       "    .dataframe tbody tr th:only-of-type {\n",
       "        vertical-align: middle;\n",
       "    }\n",
       "\n",
       "    .dataframe tbody tr th {\n",
       "        vertical-align: top;\n",
       "    }\n",
       "\n",
       "    .dataframe thead th {\n",
       "        text-align: right;\n",
       "    }\n",
       "</style>\n",
       "<table border=\"1\" class=\"dataframe\">\n",
       "  <thead>\n",
       "    <tr style=\"text-align: right;\">\n",
       "      <th></th>\n",
       "      <th>field_importance_scores</th>\n",
       "    </tr>\n",
       "    <tr>\n",
       "      <th>fields</th>\n",
       "      <th></th>\n",
       "    </tr>\n",
       "  </thead>\n",
       "  <tbody>\n",
       "    <tr>\n",
       "      <th>age importance</th>\n",
       "      <td>0.0</td>\n",
       "    </tr>\n",
       "    <tr>\n",
       "      <th>blood pressure importance</th>\n",
       "      <td>0.0</td>\n",
       "    </tr>\n",
       "    <tr>\n",
       "      <th>bmi importance</th>\n",
       "      <td>0.0</td>\n",
       "    </tr>\n",
       "    <tr>\n",
       "      <th>diabetes pedigree importance</th>\n",
       "      <td>0.0</td>\n",
       "    </tr>\n",
       "    <tr>\n",
       "      <th>insulin importance</th>\n",
       "      <td>0.0</td>\n",
       "    </tr>\n",
       "    <tr>\n",
       "      <th>plasma glucose importance</th>\n",
       "      <td>0.0</td>\n",
       "    </tr>\n",
       "    <tr>\n",
       "      <th>pregnancies importance</th>\n",
       "      <td>0.0</td>\n",
       "    </tr>\n",
       "    <tr>\n",
       "      <th>triceps skin thickness importance</th>\n",
       "      <td>0.0</td>\n",
       "    </tr>\n",
       "  </tbody>\n",
       "</table>\n",
       "</div>"
      ],
      "text/plain": [
       "                                   field_importance_scores\n",
       "fields                                                    \n",
       "age importance                                         0.0\n",
       "blood pressure importance                              0.0\n",
       "bmi importance                                         0.0\n",
       "diabetes pedigree importance                           0.0\n",
       "insulin importance                                     0.0\n",
       "plasma glucose importance                              0.0\n",
       "pregnancies importance                                 0.0\n",
       "triceps skin thickness importance                      0.0"
      ]
     },
     "execution_count": 365,
     "metadata": {},
     "output_type": "execute_result"
    }
   ],
   "source": [
    "comb(x).groupby(\"fields\").std()"
   ]
  },
  {
   "cell_type": "code",
   "execution_count": null,
   "metadata": {},
   "outputs": [],
   "source": []
  },
  {
   "cell_type": "code",
   "execution_count": 196,
   "metadata": {},
   "outputs": [
    {
     "name": "stdout",
     "output_type": "stream",
     "text": [
      "Corresponding scores from set thresholds:\n",
      "Threshold Score: 0.58204\n",
      "\n",
      "Anomaly Counts:\n",
      "Normal Anomaly    27154\n",
      "High Anomaly       1273\n",
      "Name: score, dtype: int64\n"
     ]
    },
    {
     "data": {
      "image/png": "[encoded data removed]",
      "text/plain": [
       "<Figure size 432x288 with 2 Axes>"
      ]
     },
     "metadata": {},
     "output_type": "display_data"
    },
    {
     "name": "stdout",
     "output_type": "stream",
     "text": [
      "{'000001': 0.06491, '000002': 0.29688, '000003': 0.07449, '000004': 0.33264, '000005': 0.1028, '000006': 0.12829}\n",
      "{'000001': 0.0479, '000002': 0.30423, '000003': 0.07274, '000004': 0.28327, '000005': 0.11166, '000006': 0.1802}\n"
     ]
    }
   ],
   "source": [
    "not_balanced_ensemble_credit = anomaly_field_importance(credit)\n",
    "balanced_ensemble_credit = anomaly_field_importance(credit,balance=True,graph_info=False)\n",
    "anomaly_mean_credit = anomaly_field_importance(credit,balance=True,ensemble=False,graph_info=False)"
   ]
  },
  {
   "cell_type": "code",
   "execution_count": 198,
   "metadata": {},
   "outputs": [
    {
     "data": {
      "text/plain": [
       "[('BUSAGE', 0.06491),\n",
       " ('MAXLINEUTIL', 0.07449),\n",
       " ('TOTACBAL', 0.1028),\n",
       " ('DEFAULT', 0.12829),\n",
       " ('BUSTYPE', 0.29688),\n",
       " ('DAYSDELQ', 0.33264)]"
      ]
     },
     "execution_count": 198,
     "metadata": {},
     "output_type": "execute_result"
    }
   ],
   "source": [
    "not_balanced_ensemble_credit"
   ]
  },
  {
   "cell_type": "code",
   "execution_count": 199,
   "metadata": {},
   "outputs": [
    {
     "data": {
      "text/plain": [
       "[('BUSAGE', 0.0479),\n",
       " ('MAXLINEUTIL', 0.07274),\n",
       " ('TOTACBAL', 0.11166),\n",
       " ('DEFAULT', 0.1802),\n",
       " ('DAYSDELQ', 0.28327),\n",
       " ('BUSTYPE', 0.30423)]"
      ]
     },
     "execution_count": 199,
     "metadata": {},
     "output_type": "execute_result"
    }
   ],
   "source": [
    "balanced_ensemble_credit"
   ]
  },
  {
   "cell_type": "code",
   "execution_count": 200,
   "metadata": {},
   "outputs": [
    {
     "data": {
      "text/plain": [
       "[('BUSAGE importance', 0.10839912804399032),\n",
       " ('DAYSDELQ importance', 0.14904615868028306),\n",
       " ('BUSTYPE importance', 0.15458753338570327),\n",
       " ('TOTACBAL importance', 0.17142676355066766),\n",
       " ('MAXLINEUTIL importance', 0.21350673212882904)]"
      ]
     },
     "execution_count": 200,
     "metadata": {},
     "output_type": "execute_result"
    }
   ],
   "source": [
    "anomaly_mean_credit"
   ]
  },
  {
   "cell_type": "code",
   "execution_count": 370,
   "metadata": {},
   "outputs": [
    {
     "data": {
      "image/png": "[encoded data removed]",
      "text/plain": [
       "<Figure size 432x288 with 1 Axes>"
      ]
     },
     "metadata": {},
     "output_type": "display_data"
    }
   ],
   "source": [
    "side_by_side(balanced_ensemble_credit,anomaly_mean_credit)"
   ]
  },
  {
   "cell_type": "code",
   "execution_count": 202,
   "metadata": {},
   "outputs": [
    {
     "name": "stdout",
     "output_type": "stream",
     "text": [
      "Corresponding scores from set thresholds:\n",
      "Threshold Score: 0.59855\n",
      "\n",
      "Anomaly Counts:\n",
      "Normal Anomaly    399\n",
      "High Anomaly        1\n",
      "Name: score, dtype: int64\n"
     ]
    },
    {
     "data": {
      "image/png": "[encoded data removed]",
      "text/plain": [
       "<Figure size 432x288 with 2 Axes>"
      ]
     },
     "metadata": {},
     "output_type": "display_data"
    },
    {
     "name": "stdout",
     "output_type": "stream",
     "text": [
      "{'000005': 0.20783, '000007': 0.32287, '000010': 0.35638, '000012': 0.0226, '000013': 0.03572, '000014': 0.0546}\n",
      "{'000005': 0.73519, '000010': 0.26236, '000014': 0.00246}\n"
     ]
    }
   ],
   "source": [
    "not_balanced_ensemble_kidney_disease = anomaly_field_importance(kidney_disease)\n",
    "balanced_ensemble_kidney_disease = anomaly_field_importance(kidney_disease,balance=True,graph_info=False)\n",
    "anomaly_mean_kidney_disease = anomaly_field_importance(kidney_disease,balance=True,ensemble=False,graph_info=False)"
   ]
  },
  {
   "cell_type": "code",
   "execution_count": 203,
   "metadata": {},
   "outputs": [
    {
     "data": {
      "text/plain": [
       "[('White Blood Cell Count', 0.0226),\n",
       " ('Red Blood Cell Count', 0.03572),\n",
       " ('Hypertension', 0.0546),\n",
       " ('Albumin', 0.20783),\n",
       " ('Red Blood Cells', 0.32287),\n",
       " ('Hemoglobin', 0.35638)]"
      ]
     },
     "execution_count": 203,
     "metadata": {},
     "output_type": "execute_result"
    }
   ],
   "source": [
    "not_balanced_ensemble_kidney_disease"
   ]
  },
  {
   "cell_type": "code",
   "execution_count": 204,
   "metadata": {},
   "outputs": [
    {
     "data": {
      "text/plain": [
       "[('Hypertension', 0.00246), ('Hemoglobin', 0.26236), ('Albumin', 0.73519)]"
      ]
     },
     "execution_count": 204,
     "metadata": {},
     "output_type": "execute_result"
    }
   ],
   "source": [
    "balanced_ensemble_kidney_disease"
   ]
  },
  {
   "cell_type": "code",
   "execution_count": 205,
   "metadata": {},
   "outputs": [
    {
     "data": {
      "text/plain": [
       "[('id importance', 0.0),\n",
       " ('Age importance', 0.0037600000000000003),\n",
       " ('Bacteria importance', 0.0047),\n",
       " ('Coronary Artery Disease importance', 0.00703),\n",
       " ('Pus Cell Clumps importance', 0.00747),\n",
       " ('Anemia importance', 0.01285),\n",
       " ('Sugar importance', 0.01291),\n",
       " ('Pedal Edema importance', 0.013869999999999999),\n",
       " ('Specific Gravity importance', 0.015119999999999998),\n",
       " ('Appetite importance', 0.015519999999999999),\n",
       " ('Packed Cell Volume importance', 0.01706),\n",
       " ('Hemoglobin importance', 0.0224),\n",
       " ('White Blood Cell Count importance', 0.03532),\n",
       " ('Albumin importance', 0.041069999999999995),\n",
       " ('Red Blood Cell Count importance', 0.043289999999999995),\n",
       " ('Hypertension importance', 0.0454),\n",
       " ('Diabetes Mellitus importance', 0.04629),\n",
       " ('Red Blood Cells importance', 0.05719),\n",
       " ('Sodium importance', 0.06433),\n",
       " ('Pus Cell importance', 0.07707),\n",
       " ('Potassium importance', 0.07731),\n",
       " ('Blood Urea importance', 0.07885),\n",
       " ('Serum Creatinine importance', 0.07912000000000001),\n",
       " ('Blood Pressure importance', 0.08537),\n",
       " ('Blood Glucose Random importance', 0.10839000000000001)]"
      ]
     },
     "execution_count": 205,
     "metadata": {},
     "output_type": "execute_result"
    }
   ],
   "source": [
    "anomaly_mean_kidney_disease"
   ]
  },
  {
   "cell_type": "code",
   "execution_count": 374,
   "metadata": {},
   "outputs": [
    {
     "data": {
      "image/png": "[encoded data removed]",
      "text/plain": [
       "<Figure size 432x288 with 1 Axes>"
      ]
     },
     "metadata": {},
     "output_type": "display_data"
    }
   ],
   "source": [
    "side_by_side(balanced_ensemble_kidney_disease,anomaly_mean_kidney_disease)"
   ]
  },
  {
   "cell_type": "code",
   "execution_count": 207,
   "metadata": {},
   "outputs": [
    {
     "name": "stdout",
     "output_type": "stream",
     "text": [
      "Corresponding scores from set thresholds:\n",
      "Threshold Score: 0.6231399999999999\n",
      "\n",
      "Anomaly Counts:\n",
      "Normal Anomaly    40676\n",
      "High Anomaly        512\n",
      "Name: score, dtype: int64\n"
     ]
    },
    {
     "data": {
      "image/png": "[encoded data removed]",
      "text/plain": [
       "<Figure size 432x288 with 2 Axes>"
      ]
     },
     "metadata": {},
     "output_type": "display_data"
    },
    {
     "name": "stdout",
     "output_type": "stream",
     "text": [
      "{'000001': 0.09945, '000002': 0.04607, '000003': 0.02097, '000004': 0.01521, '000005': 0.0428, '000006': 0.07481, '000007': 0.05717, '000008': 0.02697, '000009': 0.02275, '00000a': 0.00745, '00000b': 0.05421, '00000c': 0.0154, '00000d': 0.25716, '00000e': 0.05524, '00000f': 0.01508, '000010': 0.00984, '000011': 0.03344, '000012': 0.05714, '000013': 0.05422, '000014': 0.02396, '000015': 0.01064}\n",
      "{'000001': 0.06057, '000002': 0.03988, '000003': 0.01067, '000004': 0.01355, '000005': 0.01586, '000006': 0.094, '000007': 0.0248, '000008': 0.01021, '000009': 0.0222, '00000a': 0.01015, '00000b': 0.02758, '00000c': 0.0091, '00000d': 0.25261, '00000e': 0.02108, '00000f': 0.17409, '000010': 0.00307, '000011': 0.0106, '000012': 0.01819, '000013': 0.13931, '000014': 0.01565, '000015': 0.02682}\n"
     ]
    }
   ],
   "source": [
    "not_balanced_ensemble_bank_marketing = anomaly_field_importance(bank_marketing)\n",
    "balanced_ensemble_bank_marketing = anomaly_field_importance(bank_marketing,balance=True,graph_info=False)\n",
    "anomaly_mean_bank_marketing = anomaly_field_importance(bank_marketing,balance=True,ensemble=False,graph_info=False)"
   ]
  },
  {
   "cell_type": "code",
   "execution_count": 208,
   "metadata": {},
   "outputs": [
    {
     "data": {
      "text/plain": [
       "[('day_of_week', 0.00745),\n",
       " ('emp.var.rate', 0.00984),\n",
       " ('y', 0.01064),\n",
       " ('poutcome', 0.01508),\n",
       " ('education', 0.01521),\n",
       " ('campaign', 0.0154),\n",
       " ('marital', 0.02097),\n",
       " ('month', 0.02275),\n",
       " ('nr.employed', 0.02396),\n",
       " ('contact', 0.02697),\n",
       " ('cons.price.idx', 0.03344),\n",
       " ('default', 0.0428),\n",
       " ('job', 0.04607),\n",
       " ('duration', 0.05421),\n",
       " ('euribor3m', 0.05422),\n",
       " ('previous', 0.05524),\n",
       " ('cons.conf.idx', 0.05714),\n",
       " ('loan', 0.05717),\n",
       " ('housing', 0.07481),\n",
       " ('age', 0.09945),\n",
       " ('pdays', 0.25716)]"
      ]
     },
     "execution_count": 208,
     "metadata": {},
     "output_type": "execute_result"
    }
   ],
   "source": [
    "not_balanced_ensemble_bank_marketing"
   ]
  },
  {
   "cell_type": "code",
   "execution_count": 209,
   "metadata": {},
   "outputs": [
    {
     "data": {
      "text/plain": [
       "[('emp.var.rate', 0.00307),\n",
       " ('campaign', 0.0091),\n",
       " ('day_of_week', 0.01015),\n",
       " ('contact', 0.01021),\n",
       " ('cons.price.idx', 0.0106),\n",
       " ('marital', 0.01067),\n",
       " ('education', 0.01355),\n",
       " ('nr.employed', 0.01565),\n",
       " ('default', 0.01586),\n",
       " ('cons.conf.idx', 0.01819),\n",
       " ('previous', 0.02108),\n",
       " ('month', 0.0222),\n",
       " ('loan', 0.0248),\n",
       " ('y', 0.02682),\n",
       " ('duration', 0.02758),\n",
       " ('job', 0.03988),\n",
       " ('age', 0.06057),\n",
       " ('housing', 0.094),\n",
       " ('euribor3m', 0.13931),\n",
       " ('poutcome', 0.17409),\n",
       " ('pdays', 0.25261)]"
      ]
     },
     "execution_count": 209,
     "metadata": {},
     "output_type": "execute_result"
    }
   ],
   "source": [
    "balanced_ensemble_bank_marketing"
   ]
  },
  {
   "cell_type": "code",
   "execution_count": 210,
   "metadata": {},
   "outputs": [
    {
     "data": {
      "text/plain": [
       "[('duration importance', 0.017227324218749986),\n",
       " ('campaign importance', 0.017750449218749992),\n",
       " ('job importance', 0.02916121093749999),\n",
       " ('default importance', 0.029475742187499997),\n",
       " ('education importance', 0.03058771484375002),\n",
       " ('month importance', 0.03144109375),\n",
       " ('loan importance', 0.034900820312499976),\n",
       " ('previous importance', 0.038236132812499976),\n",
       " ('marital importance', 0.038873027343750005),\n",
       " ('contact importance', 0.03894796874999998),\n",
       " ('age importance', 0.039557246093749984),\n",
       " ('cons.price.idx importance', 0.042161601562499984),\n",
       " ('emp.var.rate importance', 0.04909757812500003),\n",
       " ('cons.conf.idx importance', 0.04973937499999997),\n",
       " ('housing importance', 0.05896863281249996),\n",
       " ('poutcome importance', 0.05931427734375001),\n",
       " ('day_of_week importance', 0.05966916015624999),\n",
       " ('euribor3m importance', 0.06862697265625),\n",
       " ('nr.employed importance', 0.07319691406250001),\n",
       " ('pdays importance', 0.11911224609374994)]"
      ]
     },
     "execution_count": 210,
     "metadata": {},
     "output_type": "execute_result"
    }
   ],
   "source": [
    "anomaly_mean_bank_marketing"
   ]
  },
  {
   "cell_type": "code",
   "execution_count": 371,
   "metadata": {},
   "outputs": [
    {
     "data": {
      "image/png": "[encoded data removed]",
      "text/plain": [
       "<Figure size 432x288 with 1 Axes>"
      ]
     },
     "metadata": {},
     "output_type": "display_data"
    }
   ],
   "source": [
    "side_by_side(balanced_ensemble_bank_marketing,anomaly_mean_bank_marketing)"
   ]
  },
  {
   "cell_type": "markdown",
   "metadata": {},
   "source": [
    "### From running the function and setting the thresholds based on box and whisker plots, we accurately identify anomalies, but this creates a problem since some datasets have almost no true anomalies, such as the chronic kidney disease dataset. Therefore, when labeling our low and high anomalies, our model has very little data to train on and might not accurately portray field importance. \n"
   ]
  },
  {
   "cell_type": "markdown",
   "metadata": {},
   "source": [
    "#### We will run the function for balanced and not balanced fields again for the diabetes dataset, except we will set the threshold to the 95th percentile instead of using a box and whisker plot."
   ]
  },
  {
   "cell_type": "code",
   "execution_count": 212,
   "metadata": {},
   "outputs": [
    {
     "name": "stdout",
     "output_type": "stream",
     "text": [
      "Corresponding scores from set thresholds:\n",
      "Threshold Score: 0.517817\n",
      "\n",
      "Anomaly Counts:\n",
      "Normal Anomaly    729\n",
      "High Anomaly       39\n",
      "Name: score, dtype: int64\n"
     ]
    },
    {
     "data": {
      "image/png": "[encoded data removed]",
      "text/plain": [
       "<Figure size 432x288 with 2 Axes>"
      ]
     },
     "metadata": {},
     "output_type": "display_data"
    },
    {
     "name": "stdout",
     "output_type": "stream",
     "text": [
      "{'000001': 0.08214, '000002': 0.046, '000003': 0.0552, '000004': 0.04722, '000005': 0.08435, '000006': 0.36626, '000007': 0.1408, '000008': 0.17413, '000009': 0.0039}\n",
      "{'000001': 0.0322, '000002': 0.05504, '000003': 0.06224, '000004': 0.04744, '000005': 0.08872, '000006': 0.37526, '000007': 0.14074, '000008': 0.19137, '000009': 0.007}\n"
     ]
    }
   ],
   "source": [
    "not_balanced_ensemble_diabetes_95 = anomaly_field_importance(diabetes,threshold=95)\n",
    "balanced_ensemble_diabetes_95 = anomaly_field_importance(diabetes,threshold=95,balance=True,graph_info=False)\n",
    "anomaly_mean_diabetes_95 = anomaly_field_importance(diabetes,threshold=95,balance=True,ensemble=False,graph_info=False)"
   ]
  },
  {
   "cell_type": "code",
   "execution_count": 213,
   "metadata": {},
   "outputs": [
    {
     "data": {
      "text/plain": [
       "[('diabetes', 0.0039),\n",
       " ('plasma glucose', 0.046),\n",
       " ('triceps skin thickness', 0.04722),\n",
       " ('blood pressure', 0.0552),\n",
       " ('pregnancies', 0.08214),\n",
       " ('insulin', 0.08435),\n",
       " ('diabetes pedigree', 0.1408),\n",
       " ('age', 0.17413),\n",
       " ('bmi', 0.36626)]"
      ]
     },
     "execution_count": 213,
     "metadata": {},
     "output_type": "execute_result"
    }
   ],
   "source": [
    "not_balanced_ensemble_diabetes_95"
   ]
  },
  {
   "cell_type": "code",
   "execution_count": 214,
   "metadata": {},
   "outputs": [
    {
     "data": {
      "text/plain": [
       "[('diabetes', 0.007),\n",
       " ('pregnancies', 0.0322),\n",
       " ('triceps skin thickness', 0.04744),\n",
       " ('plasma glucose', 0.05504),\n",
       " ('blood pressure', 0.06224),\n",
       " ('insulin', 0.08872),\n",
       " ('diabetes pedigree', 0.14074),\n",
       " ('age', 0.19137),\n",
       " ('bmi', 0.37526)]"
      ]
     },
     "execution_count": 214,
     "metadata": {},
     "output_type": "execute_result"
    }
   ],
   "source": [
    "balanced_ensemble_diabetes_95"
   ]
  },
  {
   "cell_type": "code",
   "execution_count": 215,
   "metadata": {},
   "outputs": [
    {
     "data": {
      "text/plain": [
       "[('insulin', 0.02124),\n",
       " ('pregnancies', 0.03463),\n",
       " ('diabetes pedigree', 0.03935),\n",
       " ('triceps skin thickness', 0.0641),\n",
       " ('blood pressure', 0.12959),\n",
       " ('bmi', 0.1537),\n",
       " ('plasma glucose', 0.26211),\n",
       " ('age', 0.29528)]"
      ]
     },
     "execution_count": 215,
     "metadata": {},
     "output_type": "execute_result"
    }
   ],
   "source": [
    "balanced_ensemble_diabetes"
   ]
  },
  {
   "cell_type": "code",
   "execution_count": 216,
   "metadata": {},
   "outputs": [
    {
     "data": {
      "text/plain": [
       "[('insulin importance', 0.08188128205128205),\n",
       " ('blood pressure importance', 0.0913079487179487),\n",
       " ('diabetes pedigree importance', 0.09379282051282054),\n",
       " ('age importance', 0.09411051282051282),\n",
       " ('triceps skin thickness importance', 0.10198589743589745),\n",
       " ('plasma glucose importance', 0.10456333333333333),\n",
       " ('bmi importance', 0.10582179487179487),\n",
       " ('pregnancies importance', 0.1387933333333333)]"
      ]
     },
     "execution_count": 216,
     "metadata": {},
     "output_type": "execute_result"
    }
   ],
   "source": [
    "anomaly_mean_diabetes_95"
   ]
  },
  {
   "cell_type": "code",
   "execution_count": 217,
   "metadata": {},
   "outputs": [
    {
     "data": {
      "text/plain": [
       "[('bmi importance', 0.08196833333333334),\n",
       " ('blood pressure importance', 0.08289999999999999),\n",
       " ('pregnancies importance', 0.08891166666666667),\n",
       " ('insulin importance', 0.09865333333333333),\n",
       " ('age importance', 0.10598666666666666),\n",
       " ('diabetes pedigree importance', 0.10976000000000001),\n",
       " ('triceps skin thickness importance', 0.11687666666666667),\n",
       " ('plasma glucose importance', 0.12035333333333335)]"
      ]
     },
     "execution_count": 217,
     "metadata": {},
     "output_type": "execute_result"
    }
   ],
   "source": [
    "anomaly_mean_diabetes"
   ]
  },
  {
   "cell_type": "code",
   "execution_count": 372,
   "metadata": {},
   "outputs": [
    {
     "data": {
      "image/png": "[encoded data removed]",
      "text/plain": [
       "<Figure size 432x288 with 1 Axes>"
      ]
     },
     "metadata": {},
     "output_type": "display_data"
    }
   ],
   "source": [
    "side_by_side(balanced_ensemble_diabetes_95,anomaly_mean_diabetes_95)"
   ]
  },
  {
   "cell_type": "markdown",
   "metadata": {},
   "source": [
    "### We can see that since we added just a few new data points that wouldn't be considered an anomaly, our field importance started to resemble that of the unbalanced model."
   ]
  },
  {
   "cell_type": "markdown",
   "metadata": {},
   "source": [
    "### The reason it could still be useful for a user to put in a threshold is because datasets with a low number of instances might not have enough outliers or maybe outliers at all to search for field importance. For example, the dataset about chronic kidney disease only had one outlier and therefore the model had trouble training. \n"
   ]
  },
  {
   "cell_type": "markdown",
   "metadata": {},
   "source": [
    "#### Though maybe not the best solution, we can set the percentile for the chronic kidney disease dataset to 97 in order to derive better field importance. "
   ]
  },
  {
   "cell_type": "code",
   "execution_count": 219,
   "metadata": {},
   "outputs": [
    {
     "name": "stdout",
     "output_type": "stream",
     "text": [
      "Corresponding scores from set thresholds:\n",
      "Threshold Score: 0.5416617999999999\n",
      "\n",
      "Anomaly Counts:\n",
      "Normal Anomaly    388\n",
      "High Anomaly       12\n",
      "Name: score, dtype: int64\n"
     ]
    },
    {
     "data": {
      "image/png": "[encoded data removed]",
      "text/plain": [
       "<Figure size 432x288 with 2 Axes>"
      ]
     },
     "metadata": {},
     "output_type": "display_data"
    },
    {
     "name": "stdout",
     "output_type": "stream",
     "text": [
      "{'000002': 0.05135, '000003': 0.01689, '000005': 0.0209, '00000a': 0.00411, '00000b': 0.06576, '00000c': 0.32819, '00000d': 0.16897, '00000e': 0.13282, '00000f': 0.08153, '000010': 0.05627, '000012': 0.03457, '000014': 0.00114, '000015': 0.00239, '000016': 0.0351}\n",
      "{'000002': 0.06126, '000003': 0.0857, '000005': 0.01028, '00000b': 0.0615, '00000c': 0.41542, '00000d': 0.00847, '00000e': 0.15849, '00000f': 0.14753, '000010': 0.03419, '000011': 0.0035, '000012': 0.00336, '000013': 0.00163, '000017': 0.00226, '000019': 0.00641}\n"
     ]
    }
   ],
   "source": [
    "not_balanced_ensemble_kidney_disease_97 = anomaly_field_importance(kidney_disease,threshold=97)\n",
    "balanced_ensemble_kidney_disease_97 = anomaly_field_importance(kidney_disease,threshold=97,balance=True,graph_info=False)\n",
    "anomaly_mean_kidney_disease_97 = anomaly_field_importance(kidney_disease,threshold=97,balance=True,ensemble=False,graph_info=False)"
   ]
  },
  {
   "cell_type": "code",
   "execution_count": 220,
   "metadata": {},
   "outputs": [
    {
     "data": {
      "text/plain": [
       "[('Hypertension', 0.00114),\n",
       " ('Diabetes Mellitus', 0.00239),\n",
       " ('Bacteria', 0.00411),\n",
       " ('Blood Pressure', 0.01689),\n",
       " ('Albumin', 0.0209),\n",
       " ('White Blood Cell Count', 0.03457),\n",
       " ('Coronary Artery Disease', 0.0351),\n",
       " ('Age', 0.05135),\n",
       " ('Hemoglobin', 0.05627),\n",
       " ('Blood Glucose Random', 0.06576),\n",
       " ('Potassium', 0.08153),\n",
       " ('Sodium', 0.13282),\n",
       " ('Serum Creatinine', 0.16897),\n",
       " ('Blood Urea', 0.32819)]"
      ]
     },
     "execution_count": 220,
     "metadata": {},
     "output_type": "execute_result"
    }
   ],
   "source": [
    "not_balanced_ensemble_kidney_disease_97"
   ]
  },
  {
   "cell_type": "code",
   "execution_count": 221,
   "metadata": {},
   "outputs": [
    {
     "data": {
      "text/plain": [
       "[('Red Blood Cell Count', 0.00163),\n",
       " ('Appetite', 0.00226),\n",
       " ('White Blood Cell Count', 0.00336),\n",
       " ('Packed Cell Volume', 0.0035),\n",
       " ('Anemia', 0.00641),\n",
       " ('Serum Creatinine', 0.00847),\n",
       " ('Albumin', 0.01028),\n",
       " ('Hemoglobin', 0.03419),\n",
       " ('Age', 0.06126),\n",
       " ('Blood Glucose Random', 0.0615),\n",
       " ('Blood Pressure', 0.0857),\n",
       " ('Potassium', 0.14753),\n",
       " ('Sodium', 0.15849),\n",
       " ('Blood Urea', 0.41542)]"
      ]
     },
     "execution_count": 221,
     "metadata": {},
     "output_type": "execute_result"
    }
   ],
   "source": [
    "balanced_ensemble_kidney_disease_97"
   ]
  },
  {
   "cell_type": "code",
   "execution_count": 222,
   "metadata": {},
   "outputs": [
    {
     "data": {
      "text/plain": [
       "[('Hypertension', 0.00246), ('Hemoglobin', 0.26236), ('Albumin', 0.73519)]"
      ]
     },
     "execution_count": 222,
     "metadata": {},
     "output_type": "execute_result"
    }
   ],
   "source": [
    "balanced_ensemble_kidney_disease"
   ]
  },
  {
   "cell_type": "code",
   "execution_count": 223,
   "metadata": {},
   "outputs": [
    {
     "data": {
      "text/plain": [
       "[('id importance', 0.0),\n",
       " ('Age importance', 0.0037600000000000003),\n",
       " ('Bacteria importance', 0.0047),\n",
       " ('Coronary Artery Disease importance', 0.00703),\n",
       " ('Pus Cell Clumps importance', 0.00747),\n",
       " ('Anemia importance', 0.01285),\n",
       " ('Sugar importance', 0.01291),\n",
       " ('Pedal Edema importance', 0.013869999999999999),\n",
       " ('Specific Gravity importance', 0.015119999999999998),\n",
       " ('Appetite importance', 0.015519999999999999),\n",
       " ('Packed Cell Volume importance', 0.01706),\n",
       " ('Hemoglobin importance', 0.0224),\n",
       " ('White Blood Cell Count importance', 0.03532),\n",
       " ('Albumin importance', 0.041069999999999995),\n",
       " ('Red Blood Cell Count importance', 0.043289999999999995),\n",
       " ('Hypertension importance', 0.0454),\n",
       " ('Diabetes Mellitus importance', 0.04629),\n",
       " ('Red Blood Cells importance', 0.05719),\n",
       " ('Sodium importance', 0.06433),\n",
       " ('Pus Cell importance', 0.07707),\n",
       " ('Potassium importance', 0.07731),\n",
       " ('Blood Urea importance', 0.07885),\n",
       " ('Serum Creatinine importance', 0.07912000000000001),\n",
       " ('Blood Pressure importance', 0.08537),\n",
       " ('Blood Glucose Random importance', 0.10839000000000001)]"
      ]
     },
     "execution_count": 223,
     "metadata": {},
     "output_type": "execute_result"
    }
   ],
   "source": [
    "anomaly_mean_kidney_disease"
   ]
  },
  {
   "cell_type": "code",
   "execution_count": 224,
   "metadata": {},
   "outputs": [
    {
     "data": {
      "text/plain": [
       "[('id importance', 0.0),\n",
       " ('Age importance', 0.006908333333333335),\n",
       " ('Pus Cell Clumps importance', 0.008775),\n",
       " ('Bacteria importance', 0.01995),\n",
       " ('Blood Pressure importance', 0.024351666666666664),\n",
       " ('Sugar importance', 0.026225833333333334),\n",
       " ('Blood Urea importance', 0.03190333333333333),\n",
       " ('Red Blood Cells importance', 0.032116666666666675),\n",
       " ('Serum Creatinine importance', 0.03287833333333333),\n",
       " ('Specific Gravity importance', 0.03753583333333333),\n",
       " ('Pedal Edema importance', 0.03972083333333333),\n",
       " ('Packed Cell Volume importance', 0.04164166666666667),\n",
       " ('White Blood Cell Count importance', 0.04206916666666668),\n",
       " ('Albumin importance', 0.0421125),\n",
       " ('Anemia importance', 0.045708333333333344),\n",
       " ('Appetite importance', 0.046496666666666665),\n",
       " ('Sodium importance', 0.046669999999999996),\n",
       " ('Pus Cell importance', 0.046966666666666664),\n",
       " ('Coronary Artery Disease importance', 0.04820416666666666),\n",
       " ('Potassium importance', 0.048707499999999994),\n",
       " ('Red Blood Cell Count importance', 0.05084416666666667),\n",
       " ('Hemoglobin importance', 0.05748166666666665),\n",
       " ('Diabetes Mellitus importance', 0.05833),\n",
       " ('Blood Glucose Random importance', 0.06232666666666667),\n",
       " ('Hypertension importance', 0.0646875)]"
      ]
     },
     "execution_count": 224,
     "metadata": {},
     "output_type": "execute_result"
    }
   ],
   "source": [
    "anomaly_mean_kidney_disease_97"
   ]
  },
  {
   "cell_type": "code",
   "execution_count": 373,
   "metadata": {},
   "outputs": [
    {
     "data": {
      "image/png": "[encoded data removed]",
      "text/plain": [
       "<Figure size 432x288 with 1 Axes>"
      ]
     },
     "metadata": {},
     "output_type": "display_data"
    }
   ],
   "source": [
    "side_by_side(balanced_ensemble_kidney_disease_97,anomaly_mean_kidney_disease_97)"
   ]
  },
  {
   "cell_type": "code",
   "execution_count": null,
   "metadata": {},
   "outputs": [],
   "source": []
  }
 ],
 "metadata": {
  "kernelspec": {
   "display_name": "Python 3",
   "language": "python",
   "name": "python3"
  },
  "language_info": {
   "codemirror_mode": {
    "name": "ipython",
    "version": 3
   },
   "file_extension": ".py",
   "mimetype": "text/x-python",
   "name": "python",
   "nbconvert_exporter": "python",
   "pygments_lexer": "ipython3",
   "version": "3.6.5"
  }
 },
 "nbformat": 4,
 "nbformat_minor": 2
}
