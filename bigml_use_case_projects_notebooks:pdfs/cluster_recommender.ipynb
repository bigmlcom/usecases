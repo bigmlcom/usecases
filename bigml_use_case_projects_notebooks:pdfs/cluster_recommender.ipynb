{
 "cells": [
  {
   "cell_type": "markdown",
   "metadata": {},
   "source": [
    "# A Recommendation System Using BigML's Cluster Analysis"
   ]
  },
  {
   "cell_type": "markdown",
   "metadata": {},
   "source": [
    "### Description\n",
    "In this notebook, we will build a recommendation system using BigML's Clustering, more specifically, we will take advantage of the batch centroid predictions and the distances the clustering provides."
   ]
  },
  {
   "cell_type": "markdown",
   "metadata": {},
   "source": [
    "### Import Modules\n",
    "<ul>\n",
    "<li>You will first need to install a number of modules in order to follow along with this notebook. \n",
    "<li>Most of these packages, such as numpy and pandas, are available using <a href=\"https://conda.io/docs/user-guide/install/index.html\">Anaconda</a>. \n",
    "<li>For the machine learning pipeline, we will be making use of the <a href=\"https://bigml.readthedocs.io/en/latest/\">BigML Python bindings</a>."
   ]
  },
  {
   "cell_type": "code",
   "execution_count": 1,
   "metadata": {},
   "outputs": [],
   "source": [
    "import numpy as np\n",
    "import pandas as pd"
   ]
  },
  {
   "cell_type": "markdown",
   "metadata": {},
   "source": [
    "### Save our BigML Username and Api Key to our environment to access the API"
   ]
  },
  {
   "cell_type": "code",
   "execution_count": 2,
   "metadata": {},
   "outputs": [],
   "source": [
    "import os\n",
    "os.environ['BIGML_USERNAME'] = \"EFETOROS\"\n",
    "os.environ['BIGML_API_KEY'] = \"7e5fc6a649fd0f8517fc8ecf2ebd30151c5d4fb4\""
   ]
  },
  {
   "cell_type": "markdown",
   "metadata": {},
   "source": [
    "### Creating our main API object with the input of our project id. The project will enable us to organize and keep track of our resources created."
   ]
  },
  {
   "cell_type": "code",
   "execution_count": 3,
   "metadata": {},
   "outputs": [],
   "source": [
    "from bigml.api import BigML\n",
    "api = BigML(project=\"project/5b17b75c92fb560173000387\")"
   ]
  },
  {
   "cell_type": "markdown",
   "metadata": {},
   "source": [
    "### Downloading Data\n",
    "For this system, we will be using movie meta data from imdb."
   ]
  },
  {
   "cell_type": "code",
   "execution_count": 4,
   "metadata": {},
   "outputs": [],
   "source": [
    "movies_df = pd.read_csv(\"data/movies_metadata.csv\", low_memory=False)"
   ]
  },
  {
   "cell_type": "code",
   "execution_count": 5,
   "metadata": {},
   "outputs": [
    {
     "data": {
      "text/plain": [
       "Index(['adult', 'belongs_to_collection', 'budget', 'genres', 'homepage', 'id',\n",
       "       'imdb_id', 'original_language', 'original_title', 'overview',\n",
       "       'popularity', 'poster_path', 'production_companies',\n",
       "       'production_countries', 'release_date', 'revenue', 'runtime',\n",
       "       'spoken_languages', 'status', 'tagline', 'title', 'video',\n",
       "       'vote_average', 'vote_count'],\n",
       "      dtype='object')"
      ]
     },
     "execution_count": 5,
     "metadata": {},
     "output_type": "execute_result"
    }
   ],
   "source": [
    "movies_df.columns"
   ]
  },
  {
   "cell_type": "markdown",
   "metadata": {},
   "source": [
    "We will only focus on the fields of original_title, overview, adult, and the most important feature, its genre."
   ]
  },
  {
   "cell_type": "code",
   "execution_count": 6,
   "metadata": {},
   "outputs": [
    {
     "data": {
      "text/html": [
       "<div>\n",
       "<style scoped>\n",
       "    .dataframe tbody tr th:only-of-type {\n",
       "        vertical-align: middle;\n",
       "    }\n",
       "\n",
       "    .dataframe tbody tr th {\n",
       "        vertical-align: top;\n",
       "    }\n",
       "\n",
       "    .dataframe thead th {\n",
       "        text-align: right;\n",
       "    }\n",
       "</style>\n",
       "<table border=\"1\" class=\"dataframe\">\n",
       "  <thead>\n",
       "    <tr style=\"text-align: right;\">\n",
       "      <th></th>\n",
       "      <th>original_title</th>\n",
       "      <th>overview</th>\n",
       "      <th>adult</th>\n",
       "      <th>genres</th>\n",
       "    </tr>\n",
       "  </thead>\n",
       "  <tbody>\n",
       "    <tr>\n",
       "      <th>0</th>\n",
       "      <td>Toy Story</td>\n",
       "      <td>Led by Woody, Andy's toys live happily in his ...</td>\n",
       "      <td>False</td>\n",
       "      <td>[{'id': 16, 'name': 'Animation'}, {'id': 35, '...</td>\n",
       "    </tr>\n",
       "    <tr>\n",
       "      <th>1</th>\n",
       "      <td>Jumanji</td>\n",
       "      <td>When siblings Judy and Peter discover an encha...</td>\n",
       "      <td>False</td>\n",
       "      <td>[{'id': 12, 'name': 'Adventure'}, {'id': 14, '...</td>\n",
       "    </tr>\n",
       "  </tbody>\n",
       "</table>\n",
       "</div>"
      ],
      "text/plain": [
       "  original_title                                           overview  adult  \\\n",
       "0      Toy Story  Led by Woody, Andy's toys live happily in his ...  False   \n",
       "1        Jumanji  When siblings Judy and Peter discover an encha...  False   \n",
       "\n",
       "                                              genres  \n",
       "0  [{'id': 16, 'name': 'Animation'}, {'id': 35, '...  \n",
       "1  [{'id': 12, 'name': 'Adventure'}, {'id': 14, '...  "
      ]
     },
     "execution_count": 6,
     "metadata": {},
     "output_type": "execute_result"
    }
   ],
   "source": [
    "movies_df = movies_df[[\"original_title\",\"overview\",\"adult\",\"genres\"]]\n",
    "movies_df.head(2)"
   ]
  },
  {
   "cell_type": "code",
   "execution_count": null,
   "metadata": {},
   "outputs": [],
   "source": []
  },
  {
   "cell_type": "code",
   "execution_count": 7,
   "metadata": {},
   "outputs": [],
   "source": [
    "import ast\n",
    "genres = movies_df[\"genres\"].apply(lambda x: ' '.join(map(str,([y[\"name\"] for y in ast.literal_eval(x)]))))\n",
    "movies_df[\"genres\"] = genres"
   ]
  },
  {
   "cell_type": "code",
   "execution_count": 8,
   "metadata": {},
   "outputs": [
    {
     "data": {
      "text/html": [
       "<div>\n",
       "<style scoped>\n",
       "    .dataframe tbody tr th:only-of-type {\n",
       "        vertical-align: middle;\n",
       "    }\n",
       "\n",
       "    .dataframe tbody tr th {\n",
       "        vertical-align: top;\n",
       "    }\n",
       "\n",
       "    .dataframe thead th {\n",
       "        text-align: right;\n",
       "    }\n",
       "</style>\n",
       "<table border=\"1\" class=\"dataframe\">\n",
       "  <thead>\n",
       "    <tr style=\"text-align: right;\">\n",
       "      <th></th>\n",
       "      <th>original_title</th>\n",
       "      <th>overview</th>\n",
       "      <th>adult</th>\n",
       "      <th>genres</th>\n",
       "    </tr>\n",
       "  </thead>\n",
       "  <tbody>\n",
       "    <tr>\n",
       "      <th>0</th>\n",
       "      <td>Toy Story</td>\n",
       "      <td>Led by Woody, Andy's toys live happily in his ...</td>\n",
       "      <td>False</td>\n",
       "      <td>Animation Comedy Family</td>\n",
       "    </tr>\n",
       "    <tr>\n",
       "      <th>1</th>\n",
       "      <td>Jumanji</td>\n",
       "      <td>When siblings Judy and Peter discover an encha...</td>\n",
       "      <td>False</td>\n",
       "      <td>Adventure Fantasy Family</td>\n",
       "    </tr>\n",
       "  </tbody>\n",
       "</table>\n",
       "</div>"
      ],
      "text/plain": [
       "  original_title                                           overview  adult  \\\n",
       "0      Toy Story  Led by Woody, Andy's toys live happily in his ...  False   \n",
       "1        Jumanji  When siblings Judy and Peter discover an encha...  False   \n",
       "\n",
       "                     genres  \n",
       "0   Animation Comedy Family  \n",
       "1  Adventure Fantasy Family  "
      ]
     },
     "execution_count": 8,
     "metadata": {},
     "output_type": "execute_result"
    }
   ],
   "source": [
    "movies_df.head(2)"
   ]
  },
  {
   "cell_type": "markdown",
   "metadata": {},
   "source": [
    "We will want to export the filtered data to a CSV because BigML creates sources from CSV files."
   ]
  },
  {
   "cell_type": "code",
   "execution_count": 9,
   "metadata": {},
   "outputs": [],
   "source": [
    "movies_df.to_csv(\"data/movies_filtered_cluster.csv\")"
   ]
  },
  {
   "cell_type": "markdown",
   "metadata": {},
   "source": [
    "### Importing Data to BigML\n",
    "In order to start a BigML workflow, a source object has to be created. The API function that creates a source is <code>create_source</code>. The method's inputs will be a file path to the csv it will be converting. The source will be created from the csv files written by <code>to_csv</code> from before. "
   ]
  },
  {
   "cell_type": "code",
   "execution_count": 10,
   "metadata": {},
   "outputs": [],
   "source": [
    "source = api.create_source(\"data/movies_filtered.csv\")"
   ]
  },
  {
   "cell_type": "markdown",
   "metadata": {},
   "source": [
    "BigML's <code>ok</code> method is called in order to assure that an object is created and will wait if it is not done being completed."
   ]
  },
  {
   "cell_type": "code",
   "execution_count": 11,
   "metadata": {},
   "outputs": [
    {
     "data": {
      "text/plain": [
       "True"
      ]
     },
     "execution_count": 11,
     "metadata": {},
     "output_type": "execute_result"
    }
   ],
   "source": [
    "api.ok(source)"
   ]
  },
  {
   "cell_type": "markdown",
   "metadata": {},
   "source": [
    "### Creating a Dataset\n",
    "BigML will use the newly created sources to create datasets which will enable the API to perform many more operations. In order to create a dataset, the API calls the function <code>create_dataset</code>. The method will take the sources created by the API as an input."
   ]
  },
  {
   "cell_type": "code",
   "execution_count": 12,
   "metadata": {},
   "outputs": [
    {
     "data": {
      "text/plain": [
       "True"
      ]
     },
     "execution_count": 12,
     "metadata": {},
     "output_type": "execute_result"
    }
   ],
   "source": [
    "dataset = api.create_dataset(source)\n",
    "\n",
    "api.ok(dataset)"
   ]
  },
  {
   "cell_type": "markdown",
   "metadata": {},
   "source": [
    "### Building a Cluster Analysis\n",
    "BigML's API allows for the creation of many models. For this dataset, clustering will be used. The BigML API will use the method <code>create_clusterl</code>. Many BigML API functions take in a dictionary with many fields as an additional input. These fields allow for much manipulation of the original function's outcome. For our cluster analysis, we will want to set the number of clusters to 100 since we want a good number of clusters that vary. We also want to scale genre (field 000005), since we want it to carry more importance."
   ]
  },
  {
   "cell_type": "code",
   "execution_count": 13,
   "metadata": {},
   "outputs": [
    {
     "data": {
      "text/plain": [
       "True"
      ]
     },
     "execution_count": 13,
     "metadata": {},
     "output_type": "execute_result"
    }
   ],
   "source": [
    "cluster = api.create_cluster(dataset, {\"name\": \"Movie Clusters\",\n",
    "                                       \"k\": 100,\n",
    "                                       \"field_scales\": {\"000002\": 1, \"000004\":3},\n",
    "                                       \"excluded_fields\":[\"000000\"],\n",
    "                                      \"default_numeric_value\":\"zero\"})\n",
    "api.ok(cluster)"
   ]
  },
  {
   "cell_type": "markdown",
   "metadata": {},
   "source": [
    "## Locally Storing Our Model\n",
    "BigML's API allows for the storage of models Locally by using the function <code>export</code>. The inputs of the function will include the model id that is retrieved from the model object, as well as a json path, since the models are stored as .json files."
   ]
  },
  {
   "cell_type": "code",
   "execution_count": 14,
   "metadata": {},
   "outputs": [
    {
     "data": {
      "text/plain": [
       "'movies_cluster.json'"
      ]
     },
     "execution_count": 14,
     "metadata": {},
     "output_type": "execute_result"
    }
   ],
   "source": [
    "api.export(cluster,\n",
    "           filename=\"movies_cluster.json\")"
   ]
  },
  {
   "cell_type": "markdown",
   "metadata": {},
   "source": [
    "## Creating a Batch Centroid\n",
    "BigML's API allows for the creation of a batch distribution by using the function <code>create_batch_centroid </code>. This step is what is at the core of our recommendation system. We will create a batch centroid with our original dataset. Every instance will have a a label for which centroid/cluster it belongs to as well as the distance of that instance to the center of the centroid/cluster. These distances will help us in comparing movies that are similar. "
   ]
  },
  {
   "cell_type": "code",
   "execution_count": 15,
   "metadata": {},
   "outputs": [
    {
     "data": {
      "text/plain": [
       "True"
      ]
     },
     "execution_count": 15,
     "metadata": {},
     "output_type": "execute_result"
    }
   ],
   "source": [
    "batch_centroid = api.create_batch_centroid(cluster, dataset, {\n",
    "    \"name\": \"my_batch_centroid\", \"all_fields\": True,\n",
    "    \"header\": True,\n",
    "    \"distance\": True,\n",
    "    \"distance_name\": \"Distance\"})\n",
    "api.ok(batch_centroid)"
   ]
  },
  {
   "cell_type": "markdown",
   "metadata": {},
   "source": [
    "We will download the batch topic distributions dataset as a CSV."
   ]
  },
  {
   "cell_type": "code",
   "execution_count": 16,
   "metadata": {},
   "outputs": [
    {
     "data": {
      "text/plain": [
       "'data/batch_centroid.csv'"
      ]
     },
     "execution_count": 16,
     "metadata": {},
     "output_type": "execute_result"
    }
   ],
   "source": [
    "api.download_batch_centroid( \\\n",
    "    batch_centroid, filename=('data/batch_centroid.csv'))"
   ]
  },
  {
   "cell_type": "markdown",
   "metadata": {},
   "source": [
    "We will read our new distribution CSV into our notebook."
   ]
  },
  {
   "cell_type": "code",
   "execution_count": 17,
   "metadata": {},
   "outputs": [],
   "source": [
    "batch_df = pd.read_csv('data/batch_centroid.csv')"
   ]
  },
  {
   "cell_type": "code",
   "execution_count": 18,
   "metadata": {},
   "outputs": [
    {
     "data": {
      "text/html": [
       "<div>\n",
       "<style scoped>\n",
       "    .dataframe tbody tr th:only-of-type {\n",
       "        vertical-align: middle;\n",
       "    }\n",
       "\n",
       "    .dataframe tbody tr th {\n",
       "        vertical-align: top;\n",
       "    }\n",
       "\n",
       "    .dataframe thead th {\n",
       "        text-align: right;\n",
       "    }\n",
       "</style>\n",
       "<table border=\"1\" class=\"dataframe\">\n",
       "  <thead>\n",
       "    <tr style=\"text-align: right;\">\n",
       "      <th></th>\n",
       "      <th>field1</th>\n",
       "      <th>original_title</th>\n",
       "      <th>overview</th>\n",
       "      <th>adult</th>\n",
       "      <th>genres</th>\n",
       "      <th>cluster</th>\n",
       "      <th>Distance</th>\n",
       "    </tr>\n",
       "  </thead>\n",
       "  <tbody>\n",
       "    <tr>\n",
       "      <th>0</th>\n",
       "      <td>0</td>\n",
       "      <td>Toy Story</td>\n",
       "      <td>Led by Woody, Andy's toys live happily in his ...</td>\n",
       "      <td>False</td>\n",
       "      <td>Animation Comedy Family</td>\n",
       "      <td>Cluster 61</td>\n",
       "      <td>0.26542</td>\n",
       "    </tr>\n",
       "    <tr>\n",
       "      <th>1</th>\n",
       "      <td>1</td>\n",
       "      <td>Jumanji</td>\n",
       "      <td>When siblings Judy and Peter discover an encha...</td>\n",
       "      <td>False</td>\n",
       "      <td>Adventure Fantasy Family</td>\n",
       "      <td>Cluster 74</td>\n",
       "      <td>0.30515</td>\n",
       "    </tr>\n",
       "  </tbody>\n",
       "</table>\n",
       "</div>"
      ],
      "text/plain": [
       "   field1 original_title                                           overview  \\\n",
       "0       0      Toy Story  Led by Woody, Andy's toys live happily in his ...   \n",
       "1       1        Jumanji  When siblings Judy and Peter discover an encha...   \n",
       "\n",
       "   adult                    genres     cluster  Distance  \n",
       "0  False   Animation Comedy Family  Cluster 61   0.26542  \n",
       "1  False  Adventure Fantasy Family  Cluster 74   0.30515  "
      ]
     },
     "execution_count": 18,
     "metadata": {},
     "output_type": "execute_result"
    }
   ],
   "source": [
    "batch_df.head(2)"
   ]
  },
  {
   "cell_type": "markdown",
   "metadata": {},
   "source": [
    "We will create a pandas group object on cluster. This helps to organize the data and speeds up the process of finding similar movies."
   ]
  },
  {
   "cell_type": "code",
   "execution_count": 19,
   "metadata": {},
   "outputs": [],
   "source": [
    "clusters= batch_df.groupby(\"cluster\")"
   ]
  },
  {
   "cell_type": "markdown",
   "metadata": {},
   "source": [
    "We can enter any cluster and view it as a dataset."
   ]
  },
  {
   "cell_type": "code",
   "execution_count": 20,
   "metadata": {},
   "outputs": [
    {
     "data": {
      "text/html": [
       "<div>\n",
       "<style scoped>\n",
       "    .dataframe tbody tr th:only-of-type {\n",
       "        vertical-align: middle;\n",
       "    }\n",
       "\n",
       "    .dataframe tbody tr th {\n",
       "        vertical-align: top;\n",
       "    }\n",
       "\n",
       "    .dataframe thead th {\n",
       "        text-align: right;\n",
       "    }\n",
       "</style>\n",
       "<table border=\"1\" class=\"dataframe\">\n",
       "  <thead>\n",
       "    <tr style=\"text-align: right;\">\n",
       "      <th></th>\n",
       "      <th>field1</th>\n",
       "      <th>original_title</th>\n",
       "      <th>overview</th>\n",
       "      <th>adult</th>\n",
       "      <th>genres</th>\n",
       "      <th>cluster</th>\n",
       "      <th>Distance</th>\n",
       "    </tr>\n",
       "  </thead>\n",
       "  <tbody>\n",
       "    <tr>\n",
       "      <th>1366</th>\n",
       "      <td>1366</td>\n",
       "      <td>The Portrait of a Lady</td>\n",
       "      <td>Ms. Isabel Archer isn't afraid to challenge so...</td>\n",
       "      <td>False</td>\n",
       "      <td>Drama Romance</td>\n",
       "      <td>Cluster 01</td>\n",
       "      <td>0.21777</td>\n",
       "    </tr>\n",
       "    <tr>\n",
       "      <th>1696</th>\n",
       "      <td>1696</td>\n",
       "      <td>Love and Death on Long Island</td>\n",
       "      <td>Giles De'Ath is a widower who doesn't like any...</td>\n",
       "      <td>False</td>\n",
       "      <td>Drama Romance Foreign</td>\n",
       "      <td>Cluster 01</td>\n",
       "      <td>0.24154</td>\n",
       "    </tr>\n",
       "  </tbody>\n",
       "</table>\n",
       "</div>"
      ],
      "text/plain": [
       "      field1                 original_title  \\\n",
       "1366    1366         The Portrait of a Lady   \n",
       "1696    1696  Love and Death on Long Island   \n",
       "\n",
       "                                               overview  adult  \\\n",
       "1366  Ms. Isabel Archer isn't afraid to challenge so...  False   \n",
       "1696  Giles De'Ath is a widower who doesn't like any...  False   \n",
       "\n",
       "                     genres     cluster  Distance  \n",
       "1366          Drama Romance  Cluster 01   0.21777  \n",
       "1696  Drama Romance Foreign  Cluster 01   0.24154  "
      ]
     },
     "execution_count": 20,
     "metadata": {},
     "output_type": "execute_result"
    }
   ],
   "source": [
    "clusters.get_group(\"Cluster 01\").head(2)"
   ]
  },
  {
   "cell_type": "markdown",
   "metadata": {},
   "source": [
    "We will retrieve our local topic model for faster predictions if a movie is not in our database."
   ]
  },
  {
   "cell_type": "code",
   "execution_count": 21,
   "metadata": {},
   "outputs": [],
   "source": [
    "from bigml.cluster import Cluster\n",
    "cluster_id = cluster[\"object\"][\"resource\"]\n",
    "local_cluster = Cluster(cluster_id)"
   ]
  },
  {
   "cell_type": "markdown",
   "metadata": {},
   "source": [
    "### Main Recommender Function\n",
    "This is our main function that will generate movie reccomendations. "
   ]
  },
  {
   "cell_type": "code",
   "execution_count": 26,
   "metadata": {},
   "outputs": [],
   "source": [
    "def movie_recommender(movie_name):\n",
    "    #retrieve the row of the movie we are recommending for\n",
    "    row = batch_df.loc[batch_df['original_title'] == movie_name]\n",
    "    row.index= np.arange(len(row))\n",
    "    \n",
    "    #check if the movie_name is in our clusters\n",
    "    if len(row) >= 1:\n",
    "        single_cluster = clusters.get_group(row['cluster'][0]).sort_values(\"Distance\")\n",
    "    else:\n",
    "        #if the movie is not in our clusters, the function will as the user to\n",
    "        #input the overview, a boolean for if the movie is rated R, and most\n",
    "        #importantly the genres\n",
    "        print(\"Sorry that movie is not in the Database\")\n",
    "    \n",
    "        overview = input(\"Please enter the movie overview: \")\n",
    "        adult = input(\"Please enter a boolean of if the movie is a rated R: \")\n",
    "        genres = input(\"Please enter a the genre/genres of the movie: \")\n",
    "        \n",
    "        #The function creates a temporary centroid for the new movie\n",
    "        data = local_cluster.centroid({\n",
    "        \"original_title\":movie_name,\n",
    "        \"overview\": overview,\n",
    "        \"adult\": adult,\n",
    "        \"genres\": genres})\n",
    "    \n",
    "        #data will contain centroid_name, which is the cluster name that the\n",
    "        #movie would live in, as well as the distance to the middle of that cluster\n",
    "        single_cluster = clusters.get_group(data[\"centroid_name\"])\n",
    "    \n",
    "        #add the new movie as a row into the cluster\n",
    "        new_row = {\"original_title\" : movie_name, \"adult\":adult ,\"overview\":overview,'Distance':data[\"distance\"]}\n",
    "        single_cluster = single_cluster.append(new_row,ignore_index=True)\n",
    "    \n",
    "        single_cluster = single_cluster.sort_values(\"Distance\")\n",
    "    \n",
    "    \n",
    "    #reset the indexes of the cluster into an ordered range\n",
    "    single_cluster.index = np.arange(len(single_cluster))\n",
    "    \n",
    "    #find the index of the movie that we are recommending for\n",
    "    index = single_cluster.loc[single_cluster['original_title'] == movie_name].index[0]\n",
    "    \n",
    "    #There are three if statements that account for if a movie \n",
    "    #is at the end, beginning, or anywhere else of a list of distances.\n",
    "    #Then retrieve 5 movies that have similar distances to the movie we\n",
    "    #are recommending for.\n",
    "    if index < 3:\n",
    "        return single_cluster.iloc[[index+1,index+2,index+3,index+4,index+5],:].original_title\n",
    "    elif index > len(single_cluster) - 4:\n",
    "        return single_cluster.iloc[[index-1,index-2,index-3,index-4,index-5],:].original_title\n",
    "    else:\n",
    "        return single_cluster.iloc[[index-2,index-1,index+1,index+2,index+3],:].original_title"
   ]
  },
  {
   "cell_type": "code",
   "execution_count": 23,
   "metadata": {},
   "outputs": [
    {
     "data": {
      "text/plain": [
       "50                             Hoodwinked!\n",
       "51                      Kronk's New Groove\n",
       "53                    Mr. Bug Goes to Town\n",
       "54            The Great Piggy Bank Robbery\n",
       "55    Lilo & Stitch 2: Stitch has a Glitch\n",
       "Name: original_title, dtype: object"
      ]
     },
     "execution_count": 23,
     "metadata": {},
     "output_type": "execute_result"
    }
   ],
   "source": [
    "movie_recommender(\"Toy Story\")"
   ]
  },
  {
   "cell_type": "code",
   "execution_count": 28,
   "metadata": {},
   "outputs": [
    {
     "data": {
      "text/plain": [
       "216                        Solomon Kane\n",
       "217                          宇宙からのメッセージ\n",
       "219      Dr. Horrible's Sing-Along Blog\n",
       "220    The Trial of the Incredible Hulk\n",
       "221        Atlantis, the Lost Continent\n",
       "Name: original_title, dtype: object"
      ]
     },
     "execution_count": 28,
     "metadata": {},
     "output_type": "execute_result"
    }
   ],
   "source": [
    "movie_recommender(\"Superman\")"
   ]
  },
  {
   "cell_type": "code",
   "execution_count": 27,
   "metadata": {},
   "outputs": [
    {
     "name": "stdout",
     "output_type": "stream",
     "text": [
      "Sorry that movie is not in the Database\n",
      "Please enter the movie overview: A movie about a warrior that saves spain from disaster\n",
      "Please enter a boolean of if the movie is a rated R: False\n",
      "Please enter a the genre/genres of the movie: Action\n"
     ]
    },
    {
     "data": {
      "text/plain": [
       "357               あしたのジョー\n",
       "358           The Tracker\n",
       "360               Destiny\n",
       "361                  龍騰虎躍\n",
       "362    American Kickboxer\n",
       "Name: original_title, dtype: object"
      ]
     },
     "execution_count": 27,
     "metadata": {},
     "output_type": "execute_result"
    }
   ],
   "source": [
    "movie_recommender(\"The Spanish Warrior\")"
   ]
  },
  {
   "cell_type": "markdown",
   "metadata": {},
   "source": [
    "### All BigML operations are drawn from the BigML API, and full documentation can be found at <a href=\"https://bigml.com/api\">BigML API Documentation</a>. This notebook used the API's python bindings, and full documentation can be found at <a href=\"https://bigml.readthedocs.io/en/latest/#\">BigML API Python Bindings</a>."
   ]
  },
  {
   "cell_type": "code",
   "execution_count": null,
   "metadata": {},
   "outputs": [],
   "source": []
  }
 ],
 "metadata": {
  "kernelspec": {
   "display_name": "Python 3",
   "language": "python",
   "name": "python3"
  },
  "language_info": {
   "codemirror_mode": {
    "name": "ipython",
    "version": 3
   },
   "file_extension": ".py",
   "mimetype": "text/x-python",
   "name": "python",
   "nbconvert_exporter": "python",
   "pygments_lexer": "ipython3",
   "version": "3.6.5"
  }
 },
 "nbformat": 4,
 "nbformat_minor": 2
}
